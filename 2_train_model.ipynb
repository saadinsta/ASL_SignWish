{
 "cells": [
  {
   "cell_type": "markdown",
   "source": [
    "# 1. Import and Install Dependencies"
   ],
   "metadata": {}
  },
  {
   "cell_type": "code",
   "execution_count": 44,
   "source": [
    "# !pip install tensorflow==2.4.1 tensorflow-gpu==2.4.1 opencv-python mediapipe sklearn matplotlib"
   ],
   "outputs": [],
   "metadata": {}
  },
  {
   "cell_type": "code",
   "execution_count": 45,
   "source": [
    "import cv2\n",
    "import numpy as np\n",
    "import os\n",
    "from matplotlib import pyplot as plt\n",
    "import time\n",
    "import mediapipe as mp"
   ],
   "outputs": [],
   "metadata": {}
  },
  {
   "cell_type": "markdown",
   "source": [
    "# 2. Keypoints using MP Holistic"
   ],
   "metadata": {}
  },
  {
   "cell_type": "code",
   "execution_count": 46,
   "source": [
    "mp_holistic = mp.solutions.holistic # Holistic model\n",
    "mp_drawing = mp.solutions.drawing_utils # Drawing utilities"
   ],
   "outputs": [],
   "metadata": {}
  },
  {
   "cell_type": "code",
   "execution_count": 47,
   "source": [
    "def mediapipe_detection(image, model):\n",
    "    image = cv2.cvtColor(image, cv2.COLOR_BGR2RGB) # COLOR CONVERSION BGR 2 RGB\n",
    "    image.flags.writeable = False                  # Image is no longer writeable\n",
    "    results = model.process(image)                 # Make prediction\n",
    "    image.flags.writeable = True                   # Image is now writeable \n",
    "    image = cv2.cvtColor(image, cv2.COLOR_RGB2BGR) # COLOR COVERSION RGB 2 BGR\n",
    "    return image, results"
   ],
   "outputs": [],
   "metadata": {}
  },
  {
   "cell_type": "code",
   "execution_count": 48,
   "source": [
    "def draw_styled_landmarks(image, results):\n",
    "    # Draw face connections\n",
    "    # mp_drawing.draw_landmarks(image, results.face_landmarks, mp_holistic.FACEMESH_CONTOURS, \n",
    "    #                          mp_drawing.DrawingSpec(color=(80,110,10), thickness=1, circle_radius=1), \n",
    "    #                          mp_drawing.DrawingSpec(color=(80,256,121), thickness=1, circle_radius=1)\n",
    "    #                          ) \n",
    "    # # Draw pose connections\n",
    "    mp_drawing.draw_landmarks(image, results.pose_landmarks, mp_holistic.POSE_CONNECTIONS,\n",
    "                             mp_drawing.DrawingSpec(color=(80,22,10), thickness=2, circle_radius=4), \n",
    "                             mp_drawing.DrawingSpec(color=(80,44,121), thickness=2, circle_radius=2)\n",
    "                             ) \n",
    "    # Draw left hand connections\n",
    "    mp_drawing.draw_landmarks(image, results.left_hand_landmarks, mp_holistic.HAND_CONNECTIONS, \n",
    "                             mp_drawing.DrawingSpec(color=(121,22,76), thickness=2, circle_radius=4), \n",
    "                             mp_drawing.DrawingSpec(color=(121,44,250), thickness=2, circle_radius=2)\n",
    "                             ) \n",
    "    # Draw right hand connections  \n",
    "    mp_drawing.draw_landmarks(image, results.right_hand_landmarks, mp_holistic.HAND_CONNECTIONS, \n",
    "                             mp_drawing.DrawingSpec(color=(245,117,66), thickness=2, circle_radius=4), \n",
    "                             mp_drawing.DrawingSpec(color=(245,66,230), thickness=2, circle_radius=2)\n",
    "                             ) "
   ],
   "outputs": [],
   "metadata": {}
  },
  {
   "cell_type": "markdown",
   "source": [
    "# 3. Extract Keypoint Values"
   ],
   "metadata": {}
  },
  {
   "cell_type": "code",
   "execution_count": 49,
   "source": [
    "def extract_keypoints(results):\n",
    "    pose = np.array([[res.x, res.y, res.z, res.visibility] for res in results.pose_landmarks.landmark]).flatten() if results.pose_landmarks else np.zeros(33*4)\n",
    "    # face = np.array([[res.x, res.y, res.z] for res in results.face_landmarks.landmark]).flatten() if results.face_landmarks else np.zeros(468*3)\n",
    "    lh = np.array([[res.x, res.y, res.z] for res in results.left_hand_landmarks.landmark]).flatten() if results.left_hand_landmarks else np.zeros(21*3)\n",
    "    rh = np.array([[res.x, res.y, res.z] for res in results.right_hand_landmarks.landmark]).flatten() if results.right_hand_landmarks else np.zeros(21*3)\n",
    "    return np.concatenate([pose, lh, rh])"
   ],
   "outputs": [],
   "metadata": {}
  },
  {
   "cell_type": "markdown",
   "source": [
    "# 6. Preprocess Data and Create Labels and Features"
   ],
   "metadata": {}
  },
  {
   "cell_type": "code",
   "execution_count": 50,
   "source": [
    "from sklearn.model_selection import train_test_split\n",
    "from tensorflow.keras.utils import to_categorical"
   ],
   "outputs": [],
   "metadata": {}
  },
  {
   "cell_type": "code",
   "execution_count": 51,
   "source": [
    "actions = os.listdir('./MP_Data')\n",
    "actions = np.array(actions)\n",
    "\n",
    "# Path for exported data, numpy arrays\n",
    "DATA_PATH = os.path.join('./MP_Data') \n",
    "\n",
    "# Thirty videos worth of data\n",
    "no_sequences = 80\n",
    "\n",
    "# Videos are going to be 30 frames in length\n",
    "sequence_length = 24"
   ],
   "outputs": [],
   "metadata": {}
  },
  {
   "cell_type": "code",
   "execution_count": 52,
   "source": [
    "label_map = {label:num for num, label in enumerate(actions)}"
   ],
   "outputs": [],
   "metadata": {}
  },
  {
   "cell_type": "code",
   "execution_count": 53,
   "source": [
    "label_map"
   ],
   "outputs": [
    {
     "output_type": "execute_result",
     "data": {
      "text/plain": [
       "{'hello': 0,\n",
       " 'how much': 1,\n",
       " 'thank you': 2,\n",
       " 'name': 3,\n",
       " 'cost': 4,\n",
       " 'your': 5,\n",
       " 'hungry': 6,\n",
       " 'phone': 7,\n",
       " 'beautiful': 8,\n",
       " 'good job': 9,\n",
       " 'sad': 10,\n",
       " 'what': 11,\n",
       " 'father': 12,\n",
       " 'i love you': 13}"
      ]
     },
     "metadata": {},
     "execution_count": 53
    }
   ],
   "metadata": {}
  },
  {
   "cell_type": "code",
   "execution_count": 54,
   "source": [
    "sequences, labels = [], []\n",
    "for action in actions:\n",
    "    for sequence in range(no_sequences):\n",
    "        window = []\n",
    "        for frame_num in range(sequence_length):\n",
    "            res = np.load(os.path.join(DATA_PATH, action, str(sequence), \"{}.npy\".format(frame_num)))\n",
    "            window.append(res)\n",
    "        sequences.append(window)\n",
    "        labels.append(label_map[action])"
   ],
   "outputs": [],
   "metadata": {}
  },
  {
   "cell_type": "code",
   "execution_count": 55,
   "source": [
    "X = np.array(sequences)\n",
    "X.shape"
   ],
   "outputs": [
    {
     "output_type": "execute_result",
     "data": {
      "text/plain": [
       "(1120, 24, 258)"
      ]
     },
     "metadata": {},
     "execution_count": 55
    }
   ],
   "metadata": {}
  },
  {
   "cell_type": "code",
   "execution_count": 56,
   "source": [
    "y = to_categorical(labels).astype(int)\n",
    "y.shape"
   ],
   "outputs": [
    {
     "output_type": "execute_result",
     "data": {
      "text/plain": [
       "(1120, 14)"
      ]
     },
     "metadata": {},
     "execution_count": 56
    }
   ],
   "metadata": {}
  },
  {
   "cell_type": "code",
   "execution_count": 57,
   "source": [
    "X_train, X_test, y_train, y_test = train_test_split(X, y, test_size=0.1, stratify=y)\n",
    "\n",
    "X_train.shape, X_test.shape, y_train.shape, y_test.shape"
   ],
   "outputs": [
    {
     "output_type": "execute_result",
     "data": {
      "text/plain": [
       "((1008, 24, 258), (112, 24, 258), (1008, 14), (112, 14))"
      ]
     },
     "metadata": {},
     "execution_count": 57
    }
   ],
   "metadata": {}
  },
  {
   "cell_type": "markdown",
   "source": [
    "# 7. Build and Train LSTM Neural Network"
   ],
   "metadata": {}
  },
  {
   "cell_type": "code",
   "execution_count": 58,
   "source": [
    "from tensorflow.keras.models import Sequential\n",
    "from tensorflow.keras.layers import LSTM, Dense, Dropout\n",
    "from tensorflow.keras.callbacks import TensorBoard, ReduceLROnPlateau\n",
    "import tensorflow as tf"
   ],
   "outputs": [],
   "metadata": {}
  },
  {
   "cell_type": "code",
   "execution_count": 59,
   "source": [
    "log_dir = os.path.join('Logs')\n",
    "tb_callback = [\n",
    "    # TensorBoard(log_dir=log_dir),\n",
    "    ReduceLROnPlateau(factor=0.1, patience=5)\n",
    "]"
   ],
   "outputs": [],
   "metadata": {}
  },
  {
   "cell_type": "code",
   "execution_count": 60,
   "source": [
    "model = Sequential()\n",
    "model.add(LSTM(64, return_sequences=True, activation='relu', input_shape=(24,258)))\n",
    "model.add(LSTM(128, return_sequences=True, activation='relu'))\n",
    "model.add(LSTM(64, return_sequences=False, activation='relu'))\n",
    "model.add(Dense(64, activation='relu'))\n",
    "model.add(Dropout(0.3))\n",
    "model.add(Dense(32, activation='relu'))\n",
    "model.add(Dense(actions.shape[0], activation='softmax'))"
   ],
   "outputs": [],
   "metadata": {}
  },
  {
   "cell_type": "code",
   "execution_count": 61,
   "source": [
    "model.summary()"
   ],
   "outputs": [
    {
     "output_type": "stream",
     "name": "stdout",
     "text": [
      "Model: \"sequential_1\"\n",
      "_________________________________________________________________\n",
      "Layer (type)                 Output Shape              Param #   \n",
      "=================================================================\n",
      "lstm_3 (LSTM)                (None, 24, 64)            82688     \n",
      "_________________________________________________________________\n",
      "lstm_4 (LSTM)                (None, 24, 128)           98816     \n",
      "_________________________________________________________________\n",
      "lstm_5 (LSTM)                (None, 64)                49408     \n",
      "_________________________________________________________________\n",
      "dense_3 (Dense)              (None, 64)                4160      \n",
      "_________________________________________________________________\n",
      "dropout_1 (Dropout)          (None, 64)                0         \n",
      "_________________________________________________________________\n",
      "dense_4 (Dense)              (None, 32)                2080      \n",
      "_________________________________________________________________\n",
      "dense_5 (Dense)              (None, 14)                462       \n",
      "=================================================================\n",
      "Total params: 237,614\n",
      "Trainable params: 237,614\n",
      "Non-trainable params: 0\n",
      "_________________________________________________________________\n"
     ]
    }
   ],
   "metadata": {}
  },
  {
   "cell_type": "code",
   "execution_count": 62,
   "source": [
    "model.compile(optimizer=tf.optimizers.Adam(learning_rate=0.0001), \n",
    "                loss='categorical_crossentropy', \n",
    "                metrics=['accuracy'])\n",
    "\n",
    "history = model.fit(X_train, y_train, \n",
    "                        epochs=50, \n",
    "                        callbacks=[tb_callback],\n",
    "                        validation_data = (X_test, y_test))"
   ],
   "outputs": [
    {
     "output_type": "stream",
     "name": "stdout",
     "text": [
      "Epoch 1/50\n",
      "32/32 [==============================] - 10s 158ms/step - loss: 2.6149 - accuracy: 0.0645 - val_loss: 2.5266 - val_accuracy: 0.0536\n",
      "Epoch 2/50\n",
      "32/32 [==============================] - 4s 130ms/step - loss: 2.4562 - accuracy: 0.1250 - val_loss: 2.2921 - val_accuracy: 0.2143\n",
      "Epoch 3/50\n",
      "32/32 [==============================] - 4s 126ms/step - loss: 2.2235 - accuracy: 0.2321 - val_loss: 1.9267 - val_accuracy: 0.2679\n",
      "Epoch 4/50\n",
      "32/32 [==============================] - 5s 165ms/step - loss: 1.9508 - accuracy: 0.2798 - val_loss: 1.6546 - val_accuracy: 0.4643\n",
      "Epoch 5/50\n",
      "32/32 [==============================] - 4s 118ms/step - loss: 1.7467 - accuracy: 0.3750 - val_loss: 1.5322 - val_accuracy: 0.5268\n",
      "Epoch 6/50\n",
      "32/32 [==============================] - 4s 125ms/step - loss: 1.5273 - accuracy: 0.4405 - val_loss: 1.2296 - val_accuracy: 0.6071\n",
      "Epoch 7/50\n",
      "32/32 [==============================] - 4s 121ms/step - loss: 1.3437 - accuracy: 0.5278 - val_loss: 0.9688 - val_accuracy: 0.7321\n",
      "Epoch 8/50\n",
      "32/32 [==============================] - 4s 125ms/step - loss: 1.1149 - accuracy: 0.6230 - val_loss: 0.6425 - val_accuracy: 0.8125\n",
      "Epoch 9/50\n",
      "32/32 [==============================] - 4s 132ms/step - loss: 0.9660 - accuracy: 0.6548 - val_loss: 0.5423 - val_accuracy: 0.8929\n",
      "Epoch 10/50\n",
      "32/32 [==============================] - 6s 193ms/step - loss: 0.7342 - accuracy: 0.7450 - val_loss: 0.4782 - val_accuracy: 0.8661\n",
      "Epoch 11/50\n",
      "32/32 [==============================] - 5s 146ms/step - loss: 0.7663 - accuracy: 0.7688 - val_loss: 0.6534 - val_accuracy: 0.8036\n",
      "Epoch 12/50\n",
      "32/32 [==============================] - 5s 155ms/step - loss: 0.6101 - accuracy: 0.7956 - val_loss: 0.3488 - val_accuracy: 0.9107\n",
      "Epoch 13/50\n",
      "32/32 [==============================] - 4s 124ms/step - loss: 0.4807 - accuracy: 0.8512 - val_loss: 0.3123 - val_accuracy: 0.9196\n",
      "Epoch 14/50\n",
      "32/32 [==============================] - 4s 123ms/step - loss: 0.5682 - accuracy: 0.8185 - val_loss: 0.4556 - val_accuracy: 0.9018\n",
      "Epoch 15/50\n",
      "32/32 [==============================] - 4s 124ms/step - loss: 0.3933 - accuracy: 0.8690 - val_loss: 0.2330 - val_accuracy: 0.9554\n",
      "Epoch 16/50\n",
      "32/32 [==============================] - 4s 135ms/step - loss: 0.3564 - accuracy: 0.8849 - val_loss: 0.3053 - val_accuracy: 0.9196\n",
      "Epoch 17/50\n",
      "32/32 [==============================] - 4s 129ms/step - loss: 0.4216 - accuracy: 0.8671 - val_loss: 0.3247 - val_accuracy: 0.9196\n",
      "Epoch 18/50\n",
      "32/32 [==============================] - 5s 141ms/step - loss: 0.3883 - accuracy: 0.8909 - val_loss: 0.2997 - val_accuracy: 0.8839\n",
      "Epoch 19/50\n",
      "32/32 [==============================] - 5s 151ms/step - loss: 0.3259 - accuracy: 0.8968 - val_loss: 0.2300 - val_accuracy: 0.9464\n",
      "Epoch 20/50\n",
      "32/32 [==============================] - 5s 147ms/step - loss: 0.2609 - accuracy: 0.9216 - val_loss: 0.1703 - val_accuracy: 0.9643\n",
      "Epoch 21/50\n",
      "32/32 [==============================] - 4s 133ms/step - loss: 0.3463 - accuracy: 0.8968 - val_loss: 0.2178 - val_accuracy: 0.9554\n",
      "Epoch 22/50\n",
      "32/32 [==============================] - 3s 107ms/step - loss: 0.2875 - accuracy: 0.9067 - val_loss: 0.2182 - val_accuracy: 0.9464\n",
      "Epoch 23/50\n",
      "32/32 [==============================] - 3s 107ms/step - loss: 0.2256 - accuracy: 0.9435 - val_loss: 0.2190 - val_accuracy: 0.9643\n",
      "Epoch 24/50\n",
      "32/32 [==============================] - 4s 109ms/step - loss: 0.1804 - accuracy: 0.9454 - val_loss: 0.1549 - val_accuracy: 0.9821\n",
      "Epoch 25/50\n",
      "32/32 [==============================] - 4s 117ms/step - loss: 0.1963 - accuracy: 0.9474 - val_loss: 0.2755 - val_accuracy: 0.8839\n",
      "Epoch 26/50\n",
      "32/32 [==============================] - 3s 107ms/step - loss: 0.2271 - accuracy: 0.9315 - val_loss: 0.1195 - val_accuracy: 0.9821\n",
      "Epoch 27/50\n",
      "32/32 [==============================] - 4s 109ms/step - loss: 0.1610 - accuracy: 0.9464 - val_loss: 0.1817 - val_accuracy: 0.9732\n",
      "Epoch 28/50\n",
      "32/32 [==============================] - 4s 110ms/step - loss: 0.1837 - accuracy: 0.9474 - val_loss: 0.3643 - val_accuracy: 0.9375\n",
      "Epoch 29/50\n",
      "32/32 [==============================] - 4s 112ms/step - loss: 0.2330 - accuracy: 0.9296 - val_loss: 0.4956 - val_accuracy: 0.8929\n",
      "Epoch 30/50\n",
      "32/32 [==============================] - 3s 107ms/step - loss: 0.2708 - accuracy: 0.9306 - val_loss: 0.2264 - val_accuracy: 0.9732\n",
      "Epoch 31/50\n",
      "32/32 [==============================] - 3s 104ms/step - loss: 0.1309 - accuracy: 0.9583 - val_loss: 0.1913 - val_accuracy: 0.9732\n",
      "Epoch 32/50\n",
      "32/32 [==============================] - 3s 96ms/step - loss: 0.0873 - accuracy: 0.9742 - val_loss: 0.1641 - val_accuracy: 0.9911\n",
      "Epoch 33/50\n",
      "32/32 [==============================] - 3s 97ms/step - loss: 0.1008 - accuracy: 0.9712 - val_loss: 0.1705 - val_accuracy: 0.9821\n",
      "Epoch 34/50\n",
      "32/32 [==============================] - 3s 103ms/step - loss: 0.0810 - accuracy: 0.9812 - val_loss: 0.1713 - val_accuracy: 0.9821\n",
      "Epoch 35/50\n",
      "32/32 [==============================] - 4s 122ms/step - loss: 0.0925 - accuracy: 0.9732 - val_loss: 0.1726 - val_accuracy: 0.9821\n",
      "Epoch 36/50\n",
      "32/32 [==============================] - 4s 132ms/step - loss: 0.0777 - accuracy: 0.9802 - val_loss: 0.1811 - val_accuracy: 0.9821\n",
      "Epoch 37/50\n",
      "32/32 [==============================] - 4s 119ms/step - loss: 0.0773 - accuracy: 0.9732 - val_loss: 0.1809 - val_accuracy: 0.9821\n",
      "Epoch 38/50\n",
      "32/32 [==============================] - 3s 95ms/step - loss: 0.0877 - accuracy: 0.9762 - val_loss: 0.1803 - val_accuracy: 0.9821\n",
      "Epoch 39/50\n",
      "32/32 [==============================] - 3s 96ms/step - loss: 0.0647 - accuracy: 0.9792 - val_loss: 0.1782 - val_accuracy: 0.9821\n",
      "Epoch 40/50\n",
      "32/32 [==============================] - 3s 95ms/step - loss: 0.0756 - accuracy: 0.9802 - val_loss: 0.1775 - val_accuracy: 0.9821\n",
      "Epoch 41/50\n",
      "32/32 [==============================] - 3s 101ms/step - loss: 0.0682 - accuracy: 0.9831 - val_loss: 0.1763 - val_accuracy: 0.9821\n",
      "Epoch 42/50\n",
      "32/32 [==============================] - 3s 105ms/step - loss: 0.0825 - accuracy: 0.9742 - val_loss: 0.1763 - val_accuracy: 0.9821\n",
      "Epoch 43/50\n",
      "32/32 [==============================] - 3s 97ms/step - loss: 0.0798 - accuracy: 0.9732 - val_loss: 0.1764 - val_accuracy: 0.9821\n",
      "Epoch 44/50\n",
      "32/32 [==============================] - 4s 113ms/step - loss: 0.0980 - accuracy: 0.9673 - val_loss: 0.1763 - val_accuracy: 0.9821\n",
      "Epoch 45/50\n",
      "32/32 [==============================] - 3s 88ms/step - loss: 0.0816 - accuracy: 0.9782 - val_loss: 0.1764 - val_accuracy: 0.9821\n",
      "Epoch 46/50\n",
      "32/32 [==============================] - 3s 102ms/step - loss: 0.0664 - accuracy: 0.9821 - val_loss: 0.1763 - val_accuracy: 0.9821\n",
      "Epoch 47/50\n",
      "32/32 [==============================] - 4s 113ms/step - loss: 0.0781 - accuracy: 0.9742 - val_loss: 0.1763 - val_accuracy: 0.9821\n",
      "Epoch 48/50\n",
      "32/32 [==============================] - 3s 107ms/step - loss: 0.0700 - accuracy: 0.9792 - val_loss: 0.1763 - val_accuracy: 0.9821\n",
      "Epoch 49/50\n",
      "32/32 [==============================] - 3s 108ms/step - loss: 0.0802 - accuracy: 0.9742 - val_loss: 0.1763 - val_accuracy: 0.9821\n",
      "Epoch 50/50\n",
      "32/32 [==============================] - 4s 110ms/step - loss: 0.0763 - accuracy: 0.9772 - val_loss: 0.1763 - val_accuracy: 0.9821\n"
     ]
    }
   ],
   "metadata": {}
  },
  {
   "cell_type": "code",
   "execution_count": 63,
   "source": [
    "acc = history.history['accuracy']\n",
    "val_acc = history.history['val_accuracy']\n",
    "loss = history.history['loss']\n",
    "val_loss = history.history['val_loss']\n",
    "epochs_range = history.epoch\n",
    "\n",
    "plt.figure(figsize=(20,10))\n",
    "plt.subplot(1, 2, 1)\n",
    "plt.plot(epochs_range, acc, label='Training Accuracy')\n",
    "plt.plot(epochs_range, val_acc, label='Validation Accuracy')\n",
    "plt.legend(loc='lower right')\n",
    "plt.title('Training and Validation Accuracy')\n",
    "\n",
    "plt.subplot(1, 2, 2)\n",
    "plt.plot(epochs_range, loss, label='Training Loss')\n",
    "plt.plot(epochs_range, val_loss, label='Validation Loss')\n",
    "plt.legend(loc='upper right')\n",
    "plt.title('Training and Validation Loss')"
   ],
   "outputs": [
    {
     "output_type": "execute_result",
     "data": {
      "text/plain": [
       "Text(0.5, 1.0, 'Training and Validation Loss')"
      ]
     },
     "metadata": {},
     "execution_count": 63
    },
    {
     "output_type": "display_data",
     "data": {
      "image/png": "[encoded data removed]",
      "text/plain": [
       "<Figure size 1440x720 with 2 Axes>"
      ]
     },
     "metadata": {
      "needs_background": "light"
     }
    }
   ],
   "metadata": {}
  },
  {
   "cell_type": "markdown",
   "source": [
    "# 8. Make Predictions"
   ],
   "metadata": {}
  },
  {
   "cell_type": "code",
   "execution_count": 40,
   "source": [
    "res = model.predict(X_test)"
   ],
   "outputs": [],
   "metadata": {}
  },
  {
   "cell_type": "code",
   "execution_count": 41,
   "source": [
    "actions[np.argmax(res[11])]"
   ],
   "outputs": [
    {
     "output_type": "execute_result",
     "data": {
      "text/plain": [
       "'good job'"
      ]
     },
     "metadata": {},
     "execution_count": 41
    }
   ],
   "metadata": {}
  },
  {
   "cell_type": "code",
   "execution_count": 42,
   "source": [
    "actions[np.argmax(y_test[11])]"
   ],
   "outputs": [
    {
     "output_type": "execute_result",
     "data": {
      "text/plain": [
       "'good job'"
      ]
     },
     "metadata": {},
     "execution_count": 42
    }
   ],
   "metadata": {}
  },
  {
   "cell_type": "markdown",
   "source": [
    "# 9. Save Weights"
   ],
   "metadata": {}
  },
  {
   "cell_type": "code",
   "execution_count": 65,
   "source": [
    "model.save('model_13classes_261021.h5')"
   ],
   "outputs": [],
   "metadata": {}
  }
 ],
 "metadata": {
  "kernelspec": {
   "name": "python3",
   "display_name": "Python 3.9.7 64-bit ('asl': conda)"
  },
  "language_info": {
   "codemirror_mode": {
    "name": "ipython",
    "version": 3
   },
   "file_extension": ".py",
   "mimetype": "text/x-python",
   "name": "python",
   "nbconvert_exporter": "python",
   "pygments_lexer": "ipython3",
   "version": "3.9.7"
  },
  "interpreter": {
   "hash": "ba270cfb2c939fc40015c14353ca7c60554ef351e2aeddde3b7f5a432be1c5a8"
  }
 },
 "nbformat": 4,
 "nbformat_minor": 2
}