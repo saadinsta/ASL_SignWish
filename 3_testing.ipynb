{
 "cells": [
  {
   "cell_type": "markdown",
   "source": [
    "# 1. TESTING WITH WEBCAM"
   ],
   "metadata": {}
  },
  {
   "cell_type": "code",
   "execution_count": 1,
   "source": [
    "import cv2\n",
    "import numpy as np\n",
    "import os\n",
    "from matplotlib import pyplot as plt\n",
    "import time\n",
    "import mediapipe as mp\n",
    "import tensorflow as tf"
   ],
   "outputs": [
    {
     "output_type": "stream",
     "name": "stderr",
     "text": [
      "2021-10-26 09:18:44.197965: W tensorflow/stream_executor/platform/default/dso_loader.cc:64] Could not load dynamic library 'libcudart.so.11.0'; dlerror: libcudart.so.11.0: cannot open shared object file: No such file or directory\n",
      "2021-10-26 09:18:44.197998: I tensorflow/stream_executor/cuda/cudart_stub.cc:29] Ignore above cudart dlerror if you do not have a GPU set up on your machine.\n"
     ]
    }
   ],
   "metadata": {}
  },
  {
   "cell_type": "markdown",
   "source": [
    "# 2. Keypoints using MP Holistic"
   ],
   "metadata": {}
  },
  {
   "cell_type": "code",
   "execution_count": 2,
   "source": [
    "mp_holistic = mp.solutions.holistic # Holistic model\n",
    "mp_drawing = mp.solutions.drawing_utils # Drawing utilities"
   ],
   "outputs": [],
   "metadata": {}
  },
  {
   "cell_type": "code",
   "execution_count": 3,
   "source": [
    "def mediapipe_detection(image, model):\n",
    "    image = cv2.cvtColor(image, cv2.COLOR_BGR2RGB) # COLOR CONVERSION BGR 2 RGB\n",
    "    image.flags.writeable = False                  # Image is no longer writeable\n",
    "    results = model.process(image)                 # Make prediction\n",
    "    image.flags.writeable = True                   # Image is now writeable \n",
    "    image = cv2.cvtColor(image, cv2.COLOR_RGB2BGR) # COLOR COVERSION RGB 2 BGR\n",
    "    return image, results"
   ],
   "outputs": [],
   "metadata": {}
  },
  {
   "cell_type": "code",
   "execution_count": 4,
   "source": [
    "def draw_styled_landmarks(image, results):\n",
    "    # Draw face connections\n",
    "    # mp_drawing.draw_landmarks(image, results.face_landmarks, mp_holistic.FACEMESH_CONTOURS, \n",
    "    #                          mp_drawing.DrawingSpec(color=(80,110,10), thickness=1, circle_radius=1), \n",
    "    #                          mp_drawing.DrawingSpec(color=(80,256,121), thickness=1, circle_radius=1)\n",
    "    #                          ) \n",
    "    # # Draw pose connections\n",
    "    mp_drawing.draw_landmarks(image, results.pose_landmarks, mp_holistic.POSE_CONNECTIONS,\n",
    "                             mp_drawing.DrawingSpec(color=(80,22,10), thickness=2, circle_radius=4), \n",
    "                             mp_drawing.DrawingSpec(color=(80,44,121), thickness=2, circle_radius=2)\n",
    "                             ) \n",
    "    # Draw left hand connections\n",
    "    mp_drawing.draw_landmarks(image, results.left_hand_landmarks, mp_holistic.HAND_CONNECTIONS, \n",
    "                             mp_drawing.DrawingSpec(color=(121,22,76), thickness=2, circle_radius=4), \n",
    "                             mp_drawing.DrawingSpec(color=(121,44,250), thickness=2, circle_radius=2)\n",
    "                             ) \n",
    "    # Draw right hand connections  \n",
    "    mp_drawing.draw_landmarks(image, results.right_hand_landmarks, mp_holistic.HAND_CONNECTIONS, \n",
    "                             mp_drawing.DrawingSpec(color=(245,117,66), thickness=2, circle_radius=4), \n",
    "                             mp_drawing.DrawingSpec(color=(245,66,230), thickness=2, circle_radius=2)\n",
    "                             ) "
   ],
   "outputs": [],
   "metadata": {}
  },
  {
   "cell_type": "markdown",
   "source": [
    "# 3. Extract Keypoint Values"
   ],
   "metadata": {}
  },
  {
   "cell_type": "code",
   "execution_count": 6,
   "source": [
    "def extract_keypoints(results):\n",
    "    pose = np.array([[res.x, res.y, res.z, res.visibility] for res in results.pose_landmarks.landmark]).flatten() if results.pose_landmarks else np.zeros(33*4)\n",
    "    # face = np.array([[res.x, res.y, res.z] for res in results.face_landmarks.landmark]).flatten() if results.face_landmarks else np.zeros(468*3)\n",
    "    lh = np.array([[res.x, res.y, res.z] for res in results.left_hand_landmarks.landmark]).flatten() if results.left_hand_landmarks else np.zeros(21*3)\n",
    "    rh = np.array([[res.x, res.y, res.z] for res in results.right_hand_landmarks.landmark]).flatten() if results.right_hand_landmarks else np.zeros(21*3)\n",
    "    return np.concatenate([pose, lh, rh])"
   ],
   "outputs": [],
   "metadata": {}
  },
  {
   "cell_type": "code",
   "execution_count": 7,
   "source": [
    "actions = os.listdir('./MP_Data')\n",
    "actions = np.array(actions)\n",
    "\n",
    "# Path for exported data, numpy arrays\n",
    "DATA_PATH = os.path.join('./MP_Data') \n",
    "\n",
    "# Thirty videos worth of data\n",
    "no_sequences = 80\n",
    "\n",
    "# Videos are going to be 30 frames in length\n",
    "sequence_length = 24"
   ],
   "outputs": [],
   "metadata": {}
  },
  {
   "cell_type": "code",
   "execution_count": 8,
   "source": [
    "label_map = {label:num for num, label in enumerate(actions)}"
   ],
   "outputs": [],
   "metadata": {}
  },
  {
   "cell_type": "code",
   "execution_count": 9,
   "source": [
    "label_map"
   ],
   "outputs": [
    {
     "output_type": "execute_result",
     "data": {
      "text/plain": [
       "{'hello': 0,\n",
       " 'how much': 1,\n",
       " 'thank you': 2,\n",
       " 'name': 3,\n",
       " 'cost': 4,\n",
       " 'your': 5,\n",
       " 'hungry': 6,\n",
       " 'phone': 7,\n",
       " 'beautiful': 8,\n",
       " 'good job': 9,\n",
       " 'sad': 10,\n",
       " 'what': 11,\n",
       " 'father': 12,\n",
       " 'i love you': 13}"
      ]
     },
     "metadata": {},
     "execution_count": 9
    }
   ],
   "metadata": {}
  },
  {
   "cell_type": "markdown",
   "source": [
    "# Load model"
   ],
   "metadata": {}
  },
  {
   "cell_type": "code",
   "execution_count": 27,
   "source": [
    "# Load model:\n",
    "# Recreate the exact same model, including its weights and the optimizer\n",
    "model = tf.keras.models.load_model('./pretrained_models/model_13classes_261021.h5')\n",
    "\n",
    "# Show the model architecture\n",
    "model.summary()\n",
    "\n",
    "# We need to define its optimizer and loss function again since the h5 file\n",
    "# does not contain those information :(\n",
    "model.compile(optimizer='adam',\n",
    "              loss='categorical_crossentropy',\n",
    "              metrics=['accuracy'])"
   ],
   "outputs": [
    {
     "output_type": "stream",
     "name": "stdout",
     "text": [
      "Model: \"sequential_1\"\n",
      "_________________________________________________________________\n",
      "Layer (type)                 Output Shape              Param #   \n",
      "=================================================================\n",
      "lstm_3 (LSTM)                (None, 24, 64)            82688     \n",
      "_________________________________________________________________\n",
      "lstm_4 (LSTM)                (None, 24, 128)           98816     \n",
      "_________________________________________________________________\n",
      "lstm_5 (LSTM)                (None, 64)                49408     \n",
      "_________________________________________________________________\n",
      "dense_3 (Dense)              (None, 64)                4160      \n",
      "_________________________________________________________________\n",
      "dropout_1 (Dropout)          (None, 64)                0         \n",
      "_________________________________________________________________\n",
      "dense_4 (Dense)              (None, 32)                2080      \n",
      "_________________________________________________________________\n",
      "dense_5 (Dense)              (None, 14)                462       \n",
      "=================================================================\n",
      "Total params: 237,614\n",
      "Trainable params: 237,614\n",
      "Non-trainable params: 0\n",
      "_________________________________________________________________\n"
     ]
    }
   ],
   "metadata": {}
  },
  {
   "cell_type": "markdown",
   "source": [
    "# 11. Text to speak"
   ],
   "metadata": {}
  },
  {
   "cell_type": "code",
   "execution_count": 11,
   "source": [
    "import pyttsx3\n",
    "\n",
    "engine = pyttsx3.init()\n",
    "engine.say('see you later')\n",
    "engine.runAndWait()"
   ],
   "outputs": [],
   "metadata": {}
  },
  {
   "cell_type": "code",
   "execution_count": 12,
   "source": [
    "# Show all language\n",
    "voices = engine.getProperty('voices')\n",
    "voice_lang = {idx: str(voice.languages[0]).split('5')[-1] for idx, voice in enumerate(voices)}\n",
    "print(voice_lang)\n"
   ],
   "outputs": [
    {
     "output_type": "stream",
     "name": "stdout",
     "text": [
      "{0: \"af'\", 1: \"an'\", 2: \"bg'\", 3: \"bs'\", 4: \"ca'\", 5: \"cs'\", 6: \"cy'\", 7: \"da'\", 8: \"de'\", 9: \"el'\", 10: \"en'\", 11: \"b'\\\\x02en-gb'\", 12: \"en-sc'\", 13: \"en-uk-north'\", 14: \"en-uk-rp'\", 15: \"en-uk-wmids'\", 16: \"b'\\\\x02en-us'\", 17: \"en-wi'\", 18: \"eo'\", 19: \"es'\", 20: \"es-la'\", 21: \"et'\", 22: \"fa'\", 23: \"fa-pin'\", 24: \"fi'\", 25: \"fr-be'\", 26: \"fr-fr'\", 27: \"ga'\", 28: \"grc'\", 29: \"hi'\", 30: \"hr'\", 31: \"hu'\", 32: \"hy'\", 33: \"hy-west'\", 34: \"id'\", 35: \"is'\", 36: \"it'\", 37: \"jbo'\", 38: \"ka'\", 39: \"kn'\", 40: \"ku'\", 41: \"la'\", 42: \"lfn'\", 43: \"lt'\", 44: \"lv'\", 45: \"mk'\", 46: \"ml'\", 47: \"ms'\", 48: \"ne'\", 49: \"nl'\", 50: \"no'\", 51: \"pa'\", 52: \"pl'\", 53: \"pt-br'\", 54: \"pt-pt'\", 55: \"ro'\", 56: \"ru'\", 57: \"sk'\", 58: \"sq'\", 59: \"sr'\", 60: \"sv'\", 61: \"sw'\", 62: \"ta'\", 63: \"tr'\", 64: \"vi'\", 65: \"vi-hue'\", 66: \"vi-sgn'\", 67: \"zh'\", 68: \"zh-yue'\"}\n"
     ]
    }
   ],
   "metadata": {}
  },
  {
   "cell_type": "code",
   "execution_count": 13,
   "source": [
    "# Text to speak config\n",
    "engine = pyttsx3.init()\n",
    "voices = engine.getProperty('voices')\n",
    "engine.setProperty('voice', voices[16].id)\n",
    "engine.say('hello, this is the machine voice')\n",
    "engine.runAndWait()\n",
    "\n"
   ],
   "outputs": [],
   "metadata": {}
  },
  {
   "cell_type": "markdown",
   "source": [
    "# 12. Test in Real Time"
   ],
   "metadata": {}
  },
  {
   "cell_type": "code",
   "execution_count": 14,
   "source": [
    "colors = [(245,117,16), (117,245,16), (16,117,245)]\n",
    "def prob_viz(res, actions, input_frame, colors):\n",
    "    output_frame = input_frame.copy()\n",
    "\n",
    "    pred_dict = dict(zip(actions, res))\n",
    "    # sorting for prediction and get top 5\n",
    "    prediction = sorted(pred_dict.items(), key=lambda x: x[1])[::-1][:5]\n",
    "\n",
    "    for num, pred in enumerate(prediction):\n",
    "        text = '{}: {}'.format(pred[0], pred[1])\n",
    "        # cv2.rectangle(output_frame, (0,60+num*40), (int(prob*100), 90+num*40), colors[num], -1)\n",
    "        cv2.putText(output_frame, text, (0, 85+num*40), cv2.FONT_HERSHEY_SIMPLEX, 1, (0,0,0), 2, cv2.LINE_AA)\n",
    "        \n",
    "    return output_frame"
   ],
   "outputs": [],
   "metadata": {}
  },
  {
   "cell_type": "code",
   "execution_count": 26,
   "source": [
    "# New detection variables\n",
    "sequence = []\n",
    "sentence = []\n",
    "threshold = 0.9\n",
    "tts = False\n",
    "\n",
    "# Text to speak config:\n",
    "engine = pyttsx3.init()\n",
    "voices = engine.getProperty('voices')\n",
    "engine.setProperty('voice', voices[16].id)\n",
    "\n",
    "cap = cv2.VideoCapture(0)\n",
    "# Set mediapipe model \n",
    "with mp_holistic.Holistic(min_detection_confidence=0.7, min_tracking_confidence=0.7) as holistic:\n",
    "    while cap.isOpened():\n",
    "        # Read feed\n",
    "        ret, frame = cap.read()\n",
    "\n",
    "        # Make detections\n",
    "        image, results = mediapipe_detection(frame, holistic)\n",
    "        \n",
    "        # Draw landmarks\n",
    "        draw_styled_landmarks(image, results)\n",
    "        \n",
    "        # 2. Prediction logic\n",
    "        keypoints = extract_keypoints(results)\n",
    "\n",
    "        # sequence.insert(0,keypoints)\n",
    "        # sequence = sequence[:24]\n",
    "        sequence.append(keypoints)\n",
    "        sequence = sequence[-24:]\n",
    "        \n",
    "        if len(sequence) == 24:\n",
    "            res = model.predict(np.expand_dims(sequence, axis=0))[0]\n",
    "\n",
    "            #3. Viz logic\n",
    "            if res[np.argmax(res)] > threshold: \n",
    "                if len(sentence) > 0: \n",
    "                    if actions[np.argmax(res)] != sentence[-1]:\n",
    "                        # if prediction is 'goodjob' and last value is 'what':\n",
    "                        if actions[np.argmax(res)] == 'good job' and sentence[-1] == 'what':\n",
    "                            pass\n",
    "                        # if prediction is 'goodjob' and last value is 'name':\n",
    "                        elif actions[np.argmax(res)] == 'good job' and sentence[-1] == 'name':\n",
    "                            pass\n",
    "                        # if prediction is 'what' and last value is 'your':\n",
    "                        elif actions[np.argmax(res)] == 'what' and sentence[-1] == 'your':\n",
    "                            pass\n",
    "                        else:\n",
    "                            sentence.append(actions[np.argmax(res)])\n",
    "                            tts = True\n",
    "                else:\n",
    "                    sentence.append(actions[np.argmax(res)])\n",
    "                    tts = True\n",
    "\n",
    "            if len(sentence) > 5: \n",
    "                sentence = sentence[-5:]\n",
    "\n",
    "            # Viz probabilities\n",
    "            image = prob_viz(res, actions, image, colors)\n",
    "\n",
    "            # Text to speak:\n",
    "            if tts:\n",
    "                engine.say(sentence[-1])\n",
    "                tts = False\n",
    "            engine.runAndWait()\n",
    "            \n",
    "            # \n",
    "            cv2.rectangle(image, (0,0), (640, 40), (245, 117, 16), -1)\n",
    "            cv2.putText(image, ' '.join(sentence), (3,30), \n",
    "                        cv2.FONT_HERSHEY_SIMPLEX, 0.5, (255, 255, 255), 1, cv2.LINE_AA)\n",
    "        \n",
    "        # Show to screen\n",
    "        cv2.imshow('OpenCV Feed', image)\n",
    "\n",
    "        # Break gracefully\n",
    "        if cv2.waitKey(10) & 0xFF == ord('q'):\n",
    "            break\n",
    "        \n",
    "    cap.release()\n",
    "    cv2.destroyAllWindows()"
   ],
   "outputs": [],
   "metadata": {}
  },
  {
   "cell_type": "code",
   "execution_count": 21,
   "source": [
    "    cap.release()\n",
    "    cv2.destroyAllWindows()"
   ],
   "outputs": [],
   "metadata": {}
  }
 ],
 "metadata": {
  "kernelspec": {
   "name": "python3",
   "display_name": "Python 3.9.7 64-bit ('asl': conda)"
  },
  "language_info": {
   "codemirror_mode": {
    "name": "ipython",
    "version": 3
   },
   "file_extension": ".py",
   "mimetype": "text/x-python",
   "name": "python",
   "nbconvert_exporter": "python",
   "pygments_lexer": "ipython3",
   "version": "3.9.7"
  },
  "interpreter": {
   "hash": "ba270cfb2c939fc40015c14353ca7c60554ef351e2aeddde3b7f5a432be1c5a8"
  }
 },
 "nbformat": 4,
 "nbformat_minor": 2
}